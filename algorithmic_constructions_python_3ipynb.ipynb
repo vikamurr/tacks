{
  "nbformat": 4,
  "nbformat_minor": 0,
  "metadata": {
    "colab": {
      "provenance": [],
      "name": "algorithmic constructions.python_3ipynb.ipynb",
      "authorship_tag": "ABX9TyMjvn+AWjl1jbUusoJcssJx",
      "include_colab_link": true
    },
    "kernelspec": {
      "name": "python3",
      "display_name": "Python 3"
    },
    "language_info": {
      "name": "python"
    }
  },
  "cells": [
    {
      "cell_type": "markdown",
      "metadata": {
        "id": "view-in-github",
        "colab_type": "text"
      },
      "source": [
        "<a href=\"https://colab.research.google.com/github/vikamurr/tacks/blob/main/algorithmic_constructions_python_3ipynb.ipynb\" target=\"_parent\"><img src=\"https://colab.research.google.com/assets/colab-badge.svg\" alt=\"Open In Colab\"/></a>"
      ]
    },
    {
      "cell_type": "markdown",
      "metadata": {
        "id": "oOz321yueXU6"
      },
      "source": [
        "# **Конструкция if – elif – else**"
      ]
    },
    {
      "cell_type": "code",
      "source": [
        "amount = int(input(\"Введите сумму вклада: \"))\n",
        "term = int(input(\"Введите срок вклада в месяцах: \"))\n",
        "\n",
        "if amount < 10000 and term < 12:\n",
        "    rate = 0.05\n",
        "elif amount < 10000 and term >= 12:\n",
        "    rate = 0.06\n",
        "elif amount >= 10000 and term < 12:\n",
        "    rate = 0.07\n",
        "else:\n",
        "    rate = 0.08\n",
        "\n",
        "print(f\"Процентная ставка: {rate}\")"
      ],
      "metadata": {
        "colab": {
          "base_uri": "https://localhost:8080/"
        },
        "id": "ECWZSn6aIe4p",
        "outputId": "81ab0398-084c-455d-9919-e4adcc97a9ac"
      },
      "execution_count": null,
      "outputs": [
        {
          "output_type": "stream",
          "name": "stdout",
          "text": [
            "Введите сумму вклада: 25000\n",
            "Введите срок вклада в месяцах: 14\n",
            "Процентная ставка: 0.08\n"
          ]
        }
      ]
    },
    {
      "cell_type": "code",
      "execution_count": null,
      "metadata": {
        "colab": {
          "base_uri": "https://localhost:8080/"
        },
        "id": "VSc5jispMzPC",
        "outputId": "6a113c6b-00f0-4938-b48d-694a865ea36a"
      },
      "outputs": [
        {
          "output_type": "stream",
          "name": "stdout",
          "text": [
            "Введите сумму вклада: 438674\n",
            "Введите срок вклада в месяцах: 25\n",
            "Процентная ставка: 0.08\n"
          ]
        }
      ],
      "source": [
        "amount = int(input(\"Введите сумму вклада: \"))\n",
        "term = int(input(\"Введите срок вклада в месяцах: \"))\n",
        "\n",
        "if amount < 10000 and term < 12:\n",
        "    rate = 0.05\n",
        "elif amount < 10000 and term >= 12:\n",
        "    rate = 0.06\n",
        "elif amount >= 10000 and term < 12:\n",
        "    rate = 0.07\n",
        "else:\n",
        "    rate = 0.08\n",
        "\n",
        "print(f\"Процентная ставка: {rate}\")"
      ]
    },
    {
      "cell_type": "markdown",
      "metadata": {
        "id": "A_hscqnVevnD"
      },
      "source": [
        "# Проверка наличия денежных средств на счете:"
      ]
    },
    {
      "cell_type": "code",
      "source": [
        "balance = float(input(\"Введите баланс счета: \"))\n",
        "withdrawal = float(input(\"Введите сумму, которую вы хотите снять: \"))\n",
        "\n",
        "if balance >= withdrawal:\n",
        "    balance -= withdrawal\n",
        "    print(f\"Снятие {withdrawal:.2f} руб. со счета. Остаток: {balance:.2f} руб.\")\n",
        "else:\n",
        "    print(\"Недостаточно средств на счете\")"
      ],
      "metadata": {
        "colab": {
          "base_uri": "https://localhost:8080/"
        },
        "id": "me0ZGcAlOSmY",
        "outputId": "0639e447-28f0-485f-b64f-ce8873a93104"
      },
      "execution_count": null,
      "outputs": [
        {
          "output_type": "stream",
          "name": "stdout",
          "text": [
            "Введите баланс счета: 438674\n",
            "Введите сумму, которую вы хотите снять: 4578\n",
            "Снятие 4578.00 руб. со счета. Остаток: 434096.00 руб.\n"
          ]
        }
      ]
    },
    {
      "cell_type": "markdown",
      "source": [
        "#Расчет процентной ставки для вклада или кредита."
      ],
      "metadata": {
        "id": "U-dURv97GRmC"
      }
    },
    {
      "cell_type": "code",
      "source": [
        "amount = int(input(\"Введите сумму кредита: \"))\n",
        "term = int(input(\"Введите срок кредита в месяцах: \"))\n",
        "\n",
        "if amount < 10000 and term < 12:\n",
        "    rate = 0.05\n",
        "elif amount < 10000 and term >= 12:\n",
        "    rate = 0.06\n",
        "elif amount >= 10000 and term < 12:\n",
        "    rate = 0.07\n",
        "else:\n",
        "    rate = 0.08\n",
        "\n",
        "interest = amount * rate * term / 12\n",
        "print(f\"Процентная ставка: {rate}\")\n",
        "print(f\"Выплаты по кредиту: {interest}\")"
      ],
      "metadata": {
        "id": "hBQiGOrjOWW8"
      },
      "execution_count": null,
      "outputs": []
    },
    {
      "cell_type": "markdown",
      "source": [
        "#Расчет ежемесячного платежа по кредиту."
      ],
      "metadata": {
        "id": "heLYgqxCGobS"
      }
    },
    {
      "cell_type": "code",
      "source": [
        "amount = int(input(\"Введите сумму кредита: \"))\n",
        "term = int(input(\"Введите срок кредита в месяцах: \"))\n",
        "\n",
        "if amount < 10000 and term < 12:\n",
        "    rate = 0.05\n",
        "elif amount < 10000 and term >= 12:\n",
        "    rate = 0.06\n",
        "elif amount >= 10000 and term < 12:\n",
        "    rate = 0.07\n",
        "else:\n",
        "    rate = 0.08\n",
        "\n",
        "interest = amount * rate * term / 12\n",
        "print(f\"Процентная ставка: {rate}\")\n",
        "print(f\"Выплаты по кредиту: {interest}\")"
      ],
      "metadata": {
        "colab": {
          "base_uri": "https://localhost:8080/"
        },
        "id": "kZnbnPxqO4z9",
        "outputId": "5935eb88-ade9-4fa4-ab65-eb35a94ab14a"
      },
      "execution_count": null,
      "outputs": [
        {
          "output_type": "stream",
          "name": "stdout",
          "text": [
            "Введите сумму кредита: 67000\n",
            "Введите срок кредита в месяцах: 4\n",
            "Процентная ставка: 0.07\n",
            "Выплаты по кредиту: 1563.3333333333333\n"
          ]
        }
      ]
    },
    {
      "cell_type": "markdown",
      "source": [
        "#Расчет ежемесячного платежа по кредиту."
      ],
      "metadata": {
        "id": "ORKyvjGtXotR"
      }
    },
    {
      "cell_type": "code",
      "source": [
        "amount = int(input(\"Введите сумму кредита: \"))\n",
        "term = int(input(\"Введите срок кредита в месяцах: \"))\n",
        "interest = amount * rate * term / 12\n",
        "print(f\"Выплаты по кредиту: {interest}\")"
      ],
      "metadata": {
        "colab": {
          "base_uri": "https://localhost:8080/"
        },
        "id": "iFvgNi2sO-Z2",
        "outputId": "b229d527-b30b-4e11-f919-5428eed348db"
      },
      "execution_count": null,
      "outputs": [
        {
          "output_type": "stream",
          "name": "stdout",
          "text": [
            "Введите сумму кредита: 89000\n",
            "Введите срок кредита в месяцах: 6\n",
            "Выплаты по кредиту: 3115.0000000000005\n"
          ]
        }
      ]
    },
    {
      "cell_type": "markdown",
      "source": [
        "#Расчет доходности инвестиций."
      ],
      "metadata": {
        "id": "JnaNtHWTG8Pc"
      }
    },
    {
      "cell_type": "code",
      "source": [
        "amount=int(input(\"Введите сумму инвестиций: \"))\n",
        "term=int(input(\"Введите срок инвестиций в месяцах: \"))\n",
        "if amount< 10000 and term < 12:\n",
        "  rate= 0.05\n",
        "elif amount < 10000 and term >= 12:\n",
        "  rate=0.06\n",
        "elif amount >= 10000 and term < 12:\n",
        "  rate=0.07\n",
        "else:\n",
        "  rate=0.08\n",
        "interest= amount * rate * term/ 12\n",
        "print(f\"Процентная ставка инвестиций: {rate}\")\n",
        "print(f\"Доход от инвестиций: {interest}\")"
      ],
      "metadata": {
        "colab": {
          "base_uri": "https://localhost:8080/"
        },
        "id": "c0gopcJVQBY8",
        "outputId": "b28e03b7-ccfd-45ab-c109-567b9e9f78f7"
      },
      "execution_count": null,
      "outputs": [
        {
          "output_type": "stream",
          "name": "stdout",
          "text": [
            "Введите сумму инвестиций: 4567310\n",
            "Введите срок инвестиций в месяцах: 15\n",
            "Процентная ставка инвестиций: 0.08\n",
            "Доход от инвестиций: 456731.0\n"
          ]
        }
      ]
    },
    {
      "cell_type": "markdown",
      "metadata": {
        "id": "bG2HyagrfI3K"
      },
      "source": [
        "# **Циклы - for и while в решении финансовых задач на Python 3.**"
      ]
    },
    {
      "cell_type": "markdown",
      "metadata": {
        "id": "ldmUZKhYfzky"
      },
      "source": [
        "# Рассчитать сумму выплат по кредиту"
      ]
    },
    {
      "cell_type": "code",
      "source": [
        "deposit = 10000\n",
        "interest_rate = 0.05\n",
        "years = 5\n",
        "for i in range(years):\n",
        "    deposit = deposit * (1 + interest_rate)\n",
        "print(deposit)\n"
      ],
      "metadata": {
        "colab": {
          "base_uri": "https://localhost:8080/"
        },
        "id": "vn5xqRsmQSo-",
        "outputId": "1e962ada-a994-4d5d-f5fb-27fb5043b017"
      },
      "execution_count": null,
      "outputs": [
        {
          "output_type": "stream",
          "name": "stdout",
          "text": [
            "12762.815625000001\n"
          ]
        }
      ]
    },
    {
      "cell_type": "markdown",
      "source": [
        "#Рассчитать сумму выплат по кредиту. Решение с помощью цикла for."
      ],
      "metadata": {
        "id": "PKfsfDL7H3jD"
      }
    },
    {
      "cell_type": "code",
      "source": [
        "loan_amount = 100000\n",
        "interest_rate = 0.1\n",
        "years = 5\n",
        "monthly_payment = loan_amount / (years * 12)\n",
        "total_payments = 0\n",
        "for i in range(years * 12):\n",
        "    total_payments += monthly_payment\n",
        "    loan_amount = loan_amount * (1 + interest_rate / 12) - monthly_payment\n",
        "print(total_payments)"
      ],
      "metadata": {
        "colab": {
          "base_uri": "https://localhost:8080/"
        },
        "id": "6-l1HxXaQdnJ",
        "outputId": "c55402d4-4f69-4453-c2cf-5b5bf31b55be"
      },
      "execution_count": null,
      "outputs": [
        {
          "output_type": "stream",
          "name": "stdout",
          "text": [
            "100000.00000000006\n"
          ]
        }
      ]
    },
    {
      "cell_type": "markdown",
      "metadata": {
        "id": "yrZjXOGpgLSh"
      },
      "source": [
        "# Рассчитать ежемесячные платежи по кредиту"
      ]
    },
    {
      "cell_type": "code",
      "source": [
        "loan_amount = 100000\n",
        "interest_rate = 0.1\n",
        "years = 5\n",
        "monthly_interest_rate = interest_rate / 12\n",
        "months = years * 12\n",
        "payment = (loan_amount * monthly_interest_rate) / (1 - (1 + monthly_interest_rate) ** (-months))\n",
        "for i in range(months):\n",
        "    loan_amount = loan_amount * (1 + monthly_interest_rate) - payment\n",
        "    print(f\"Month {i+1}: Payment = {payment:.2f}, Remaining balance = {loan_amount:.2f}\")\n"
      ],
      "metadata": {
        "id": "9Bbu2OozRG52",
        "outputId": "8d8c2be0-fa91-46f1-cb5c-543a222be974",
        "colab": {
          "base_uri": "https://localhost:8080/"
        }
      },
      "execution_count": null,
      "outputs": [
        {
          "output_type": "stream",
          "name": "stdout",
          "text": [
            "Month 1: Payment = 2124.70, Remaining balance = 98708.63\n",
            "Month 2: Payment = 2124.70, Remaining balance = 97406.50\n",
            "Month 3: Payment = 2124.70, Remaining balance = 96093.51\n",
            "Month 4: Payment = 2124.70, Remaining balance = 94769.59\n",
            "Month 5: Payment = 2124.70, Remaining balance = 93434.63\n",
            "Month 6: Payment = 2124.70, Remaining balance = 92088.55\n",
            "Month 7: Payment = 2124.70, Remaining balance = 90731.25\n",
            "Month 8: Payment = 2124.70, Remaining balance = 89362.64\n",
            "Month 9: Payment = 2124.70, Remaining balance = 87982.62\n",
            "Month 10: Payment = 2124.70, Remaining balance = 86591.10\n",
            "Month 11: Payment = 2124.70, Remaining balance = 85187.99\n",
            "Month 12: Payment = 2124.70, Remaining balance = 83773.19\n",
            "Month 13: Payment = 2124.70, Remaining balance = 82346.59\n",
            "Month 14: Payment = 2124.70, Remaining balance = 80908.11\n",
            "Month 15: Payment = 2124.70, Remaining balance = 79457.64\n",
            "Month 16: Payment = 2124.70, Remaining balance = 77995.08\n",
            "Month 17: Payment = 2124.70, Remaining balance = 76520.34\n",
            "Month 18: Payment = 2124.70, Remaining balance = 75033.30\n",
            "Month 19: Payment = 2124.70, Remaining balance = 73533.88\n",
            "Month 20: Payment = 2124.70, Remaining balance = 72021.95\n",
            "Month 21: Payment = 2124.70, Remaining balance = 70497.43\n",
            "Month 22: Payment = 2124.70, Remaining balance = 68960.21\n",
            "Month 23: Payment = 2124.70, Remaining balance = 67410.17\n",
            "Month 24: Payment = 2124.70, Remaining balance = 65847.22\n",
            "Month 25: Payment = 2124.70, Remaining balance = 64271.24\n",
            "Month 26: Payment = 2124.70, Remaining balance = 62682.13\n",
            "Month 27: Payment = 2124.70, Remaining balance = 61079.77\n",
            "Month 28: Payment = 2124.70, Remaining balance = 59464.07\n",
            "Month 29: Payment = 2124.70, Remaining balance = 57834.90\n",
            "Month 30: Payment = 2124.70, Remaining balance = 56192.15\n",
            "Month 31: Payment = 2124.70, Remaining balance = 54535.71\n",
            "Month 32: Payment = 2124.70, Remaining balance = 52865.47\n",
            "Month 33: Payment = 2124.70, Remaining balance = 51181.32\n",
            "Month 34: Payment = 2124.70, Remaining balance = 49483.12\n",
            "Month 35: Payment = 2124.70, Remaining balance = 47770.78\n",
            "Month 36: Payment = 2124.70, Remaining balance = 46044.16\n",
            "Month 37: Payment = 2124.70, Remaining balance = 44303.16\n",
            "Month 38: Payment = 2124.70, Remaining balance = 42547.65\n",
            "Month 39: Payment = 2124.70, Remaining balance = 40777.51\n",
            "Month 40: Payment = 2124.70, Remaining balance = 38992.61\n",
            "Month 41: Payment = 2124.70, Remaining balance = 37192.85\n",
            "Month 42: Payment = 2124.70, Remaining balance = 35378.08\n",
            "Month 43: Payment = 2124.70, Remaining balance = 33548.20\n",
            "Month 44: Payment = 2124.70, Remaining balance = 31703.06\n",
            "Month 45: Payment = 2124.70, Remaining balance = 29842.55\n",
            "Month 46: Payment = 2124.70, Remaining balance = 27966.53\n",
            "Month 47: Payment = 2124.70, Remaining balance = 26074.88\n",
            "Month 48: Payment = 2124.70, Remaining balance = 24167.47\n",
            "Month 49: Payment = 2124.70, Remaining balance = 22244.16\n",
            "Month 50: Payment = 2124.70, Remaining balance = 20304.82\n",
            "Month 51: Payment = 2124.70, Remaining balance = 18349.33\n",
            "Month 52: Payment = 2124.70, Remaining balance = 16377.53\n",
            "Month 53: Payment = 2124.70, Remaining balance = 14389.31\n",
            "Month 54: Payment = 2124.70, Remaining balance = 12384.51\n",
            "Month 55: Payment = 2124.70, Remaining balance = 10363.01\n",
            "Month 56: Payment = 2124.70, Remaining balance = 8324.67\n",
            "Month 57: Payment = 2124.70, Remaining balance = 6269.34\n",
            "Month 58: Payment = 2124.70, Remaining balance = 4196.88\n",
            "Month 59: Payment = 2124.70, Remaining balance = 2107.14\n",
            "Month 60: Payment = 2124.70, Remaining balance = -0.00\n"
          ]
        }
      ]
    }
  ]
}